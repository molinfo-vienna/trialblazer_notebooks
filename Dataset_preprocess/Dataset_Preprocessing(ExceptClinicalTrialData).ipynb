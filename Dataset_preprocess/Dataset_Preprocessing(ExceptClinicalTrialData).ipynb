{
 "cells": [
  {
   "cell_type": "code",
   "execution_count": 34,
   "id": "0a23fd5e",
   "metadata": {},
   "outputs": [],
   "source": [
    "import pandas as pd"
   ]
  },
  {
   "cell_type": "markdown",
   "id": "90ec129e",
   "metadata": {},
   "source": [
    "Funtions"
   ]
  },
  {
   "cell_type": "code",
   "execution_count": 2,
   "id": "a480139a",
   "metadata": {},
   "outputs": [],
   "source": [
    "def SeperateDrugs_FailingReasons(input_df, substring, specific):\n",
    "    selected_rows_substring = input_df[input_df['Reason for failing'].str.contains('|'.join(substring))]\n",
    "    selected_rows_specific = input_df[input_df['Reason for failing'].isin(specific)]\n",
    "    not_harmful_drugs = pd.concat([selected_rows_substring, selected_rows_specific])\n",
    "    PM_ToxDrugs = pd.concat([input_df, not_harmful_drugs]).drop_duplicates(keep=False)\n",
    "    return not_harmful_drugs, PM_ToxDrugs\n",
    "\n",
    "def Standardize_dataset_format(df, Compound_name, Status, id, SMILES, Dataset):\n",
    "    df_rename = pd.DataFrame()\n",
    "    df_rename = df.rename(columns={Compound_name:'Name', id:'chembl_id', Status:'status', SMILES:'SMILES', Dataset: 'Dataset'})\n",
    "    df_simplified = df_rename[['Name', 'status', 'SMILES','chembl_id', 'Dataset']]\n",
    "    print(\"number of the simplified set: {}\".format(len(df_simplified)))\n",
    "    df_simplified_drop_duplicate = df_simplified.drop_duplicates(keep='first')\n",
    "    print(\"number of the simplified set after dropping duplicate: {}\".format(len(df_simplified_drop_duplicate)))\n",
    "    df_simplified_drop_duplicateAndnan = df_simplified_drop_duplicate.dropna(subset=['SMILES'])\n",
    "    print(\"number of the simplified set after dropping nan in SMILES: {}\".format(len(df_simplified_drop_duplicateAndnan)))\n",
    "    return df_simplified_drop_duplicateAndnan\n",
    "\n",
    "def add_identifier_for_each_dataset(ori_dataFrame, DS_abbreviation):\n",
    "    start = 1\n",
    "    ori_dataFrame['DS_id'] = [DS_abbreviation + str(i) for i in range(start, start + len(ori_dataFrame))]\n",
    "    return ori_dataFrame"
   ]
  },
  {
   "attachments": {},
   "cell_type": "markdown",
   "id": "c22795a6",
   "metadata": {},
   "source": [
    "## 1. literature: Post-marketing withdrawal of 462 medicinal products because of adverse drug reactions: a systematic review of the world literature "
   ]
  },
  {
   "cell_type": "code",
   "execution_count": null,
   "id": "b6bcc89e",
   "metadata": {},
   "outputs": [
    {
     "name": "stdout",
     "output_type": "stream",
     "text": [
      "462\n"
     ]
    }
   ],
   "source": [
    "PostMarketing = pd.read_csv('../datasets/Post_Marketing_raw.csv')\n",
    "print(len(PostMarketing))"
   ]
  },
  {
   "cell_type": "markdown",
   "id": "20e9bf6e",
   "metadata": {},
   "source": [
    "Remove markers from the literture"
   ]
  },
  {
   "cell_type": "code",
   "execution_count": 20,
   "id": "cbd04457",
   "metadata": {},
   "outputs": [],
   "source": [
    "PostMarketing['Compound'] = PostMarketing['Compound'].str.rstrip('‡')"
   ]
  },
  {
   "cell_type": "markdown",
   "id": "e9385858",
   "metadata": {},
   "source": [
    "Standardize the format of dataframe, including the source of the dataset, status and phase of the drugs, reason of failing"
   ]
  },
  {
   "cell_type": "code",
   "execution_count": 21,
   "id": "9fb533b1",
   "metadata": {},
   "outputs": [],
   "source": [
    "PostMarketing['Dataset'] = 'PostMarketing'\n",
    "PostMarketing['status'] = 'Withdrawn'\n",
    "PostMarketing['phase'] = 'marketed'\n",
    "PostMarketing.rename(columns = {'Reason for withdrawal':'Reason for failing'}, inplace = True)"
   ]
  },
  {
   "cell_type": "markdown",
   "id": "27ce6b96",
   "metadata": {},
   "source": [
    "add identifier of each dataset, simplify the dataframe and uniform the expression of failing reason"
   ]
  },
  {
   "cell_type": "code",
   "execution_count": 22,
   "id": "24094c0f",
   "metadata": {},
   "outputs": [
    {
     "name": "stderr",
     "output_type": "stream",
     "text": [
      "/home/hzhang/anaconda3/envs/hzhang/lib/python3.7/site-packages/ipykernel_launcher.py:3: FutureWarning: The default value of regex will change from True to False in a future version.\n",
      "  This is separate from the ipykernel package so we can avoid doing imports until\n"
     ]
    }
   ],
   "source": [
    "PostMarketing = add_identifier_for_each_dataset(PostMarketing, 'PM-')\n",
    "PostMarketing = PostMarketing[['Dataset', 'Compound', 'status', 'Reason for failing', 'phase']]\n",
    "PostMarketing['Reason for failing'] = PostMarketing['Reason for failing'].str.replace('(L|l)iver','hepatotoxicity')"
   ]
  },
  {
   "cell_type": "markdown",
   "id": "b3e65c93",
   "metadata": {},
   "source": [
    "Need to manually check the not harmful drugs"
   ]
  },
  {
   "cell_type": "code",
   "execution_count": null,
   "id": "8a3222c6",
   "metadata": {},
   "outputs": [],
   "source": [
    "substring = ['effective', '(I|i)nsufficient', 'efficacy', 'HIV', 'regulation', 'alternative','Not',\n",
    "            '(I|i)nteraction','(I|i)nappropriate', '(A|a)buse', 'Resistance', 'potential', 'Negative']\n",
    "specific = ['(O|o)verdose', 'Drug dependence', 'Drug interactions', 'Drug abuse', 'Superseded',\n",
    "            'infection', 'Negative', 'Potential', 'Suspending', 'Drug dependence, drug overdose', 'Suicides',\n",
    "            'Risk of overdose', 'Drug overdose']"
   ]
  },
  {
   "cell_type": "code",
   "execution_count": null,
   "id": "37121cfc",
   "metadata": {},
   "outputs": [],
   "source": [
    "not_harmful_drugs, PM_ToxDrugs = SeperateDrugs_FailingReasons(PostMarketing, substring, specific)"
   ]
  },
  {
   "attachments": {},
   "cell_type": "markdown",
   "id": "60237d99",
   "metadata": {},
   "source": [
    "## 2. literature: FDA-approved drug labeling for the study of drug-induced liver injury (DILI) (LTKB)"
   ]
  },
  {
   "cell_type": "code",
   "execution_count": null,
   "id": "a2250e3c",
   "metadata": {},
   "outputs": [
    {
     "name": "stdout",
     "output_type": "stream",
     "text": [
      "137\n"
     ]
    }
   ],
   "source": [
    "DILI = pd.read_csv(\"../datasets/DILI_raw.csv\")\n",
    "print(len(DILI))"
   ]
  },
  {
   "cell_type": "code",
   "execution_count": 28,
   "id": "5431a621",
   "metadata": {},
   "outputs": [
    {
     "name": "stdout",
     "output_type": "stream",
     "text": [
      "137\n"
     ]
    }
   ],
   "source": [
    "DILI.rename(columns = {'Generic name':'Compound', 'Status/\\n label':'status', 'CAS#':'CAS'}, inplace = True)\n",
    "DILI['Dataset'] = 'DILI'\n",
    "DILI['phase'] = 'marketed'\n",
    "DILI['Reason for failing'] = 'hepatotoxicity'\n",
    "\n",
    "vals_to_replace = {'WD':'Withdrawn', 'D':'Terminated', 'BW':'Black Box Warning', 'WP':'Warnings and Precautions'}\n",
    "DILI['status'] = DILI['status'].map(vals_to_replace)\n",
    "DILI = DILI[['Dataset', 'Compound', 'status', 'Reason for failing', 'phase', 'Therapeutic category', 'Brand name', 'DILI\\n severity\\n score', 'CAS', 'Vendor']]\n",
    "print(len(DILI))"
   ]
  },
  {
   "cell_type": "code",
   "execution_count": 29,
   "id": "edf7f9c5",
   "metadata": {},
   "outputs": [
    {
     "name": "stdout",
     "output_type": "stream",
     "text": [
      "54\n"
     ]
    }
   ],
   "source": [
    "DILI_withdrawn = DILI.loc[DILI['status'] == 'Withdrawn']\n",
    "print(len(DILI_withdrawn))"
   ]
  },
  {
   "attachments": {},
   "cell_type": "markdown",
   "id": "08b63d8b",
   "metadata": {},
   "source": [
    "## 3. ChEMBL Drug warning_withdrawn"
   ]
  },
  {
   "cell_type": "code",
   "execution_count": null,
   "id": "4b023bb0",
   "metadata": {},
   "outputs": [],
   "source": [
    "Chembl_withdrawn = pd.read_csv('../datasets/ChEMBL_withdrawn/Drug_warnings_withdrawn.csv', sep=';')\n",
    "Chembl_chemreps = pd.read_csv('../datasets/ChEMBL_withdrawn/chembl_33_chemreps.txt', sep='\\t')"
   ]
  },
  {
   "cell_type": "code",
   "execution_count": null,
   "id": "5f3358a5",
   "metadata": {},
   "outputs": [],
   "source": [
    "Chembl_withdrawn['Dataset'] = 'Chembl_withdrawn'\n",
    "Chembl_withdrawn.rename(columns = {'Parent Molecule ChEMBL ID':'chembl_id'}, inplace=True)"
   ]
  },
  {
   "cell_type": "code",
   "execution_count": 18,
   "id": "17d8c754",
   "metadata": {},
   "outputs": [
    {
     "name": "stdout",
     "output_type": "stream",
     "text": [
      "308\n"
     ]
    }
   ],
   "source": [
    "Merge_SMILES_chembl_withdrawn = Chembl_withdrawn.merge(Chembl_chemreps[['chembl_id', 'canonical_smiles', 'standard_inchi']], how='left', on='chembl_id')\n",
    "print(len(Merge_SMILES_chembl_withdrawn))"
   ]
  },
  {
   "cell_type": "code",
   "execution_count": null,
   "id": "362d6a4b",
   "metadata": {},
   "outputs": [],
   "source": [
    "Merge_SMILES_chembl_withdrawn[Merge_SMILES_chembl_withdrawn.canonical_smiles.isna()]"
   ]
  },
  {
   "cell_type": "markdown",
   "id": "c83bddd4",
   "metadata": {},
   "source": [
    "Manually check the data and add the uncompleted SMILES"
   ]
  },
  {
   "cell_type": "code",
   "execution_count": null,
   "id": "63f72489",
   "metadata": {},
   "outputs": [],
   "source": [
    "Merge_SMILES_chembl_withdrawn = pd.read_csv('../datasets/ChEMBL_withdrawn/Merge_SMILES_chembl_withdrawn_ManuallyCheck.csv')"
   ]
  },
  {
   "cell_type": "code",
   "execution_count": null,
   "id": "1660308f",
   "metadata": {},
   "outputs": [
    {
     "name": "stdout",
     "output_type": "stream",
     "text": [
      "294\n"
     ]
    }
   ],
   "source": [
    "Merge_SMILES_chembl_withdrawn_dropna = Merge_SMILES_chembl_withdrawn.dropna(subset=['canonical_smiles'])"
   ]
  },
  {
   "cell_type": "code",
   "execution_count": null,
   "id": "06f937f1",
   "metadata": {},
   "outputs": [],
   "source": [
    "mask = Merge_SMILES_chembl_withdrawn_dropna['Warning Class'].str.contains('|'.join(['misuse', 'None']))\n",
    "Merge_SMILES_chembl_withdrawn_dropna = Merge_SMILES_chembl_withdrawn_dropna[~mask]"
   ]
  },
  {
   "attachments": {},
   "cell_type": "markdown",
   "id": "e093e464",
   "metadata": {},
   "source": [
    "## 4. DrugBank_approved "
   ]
  },
  {
   "cell_type": "code",
   "execution_count": null,
   "id": "23c604a5",
   "metadata": {},
   "outputs": [
    {
     "name": "stdout",
     "output_type": "stream",
     "text": [
      "2735\n"
     ]
    },
    {
     "data": {
      "text/plain": [
       "Index(['DrugBank ID', 'Name', 'CAS Number', 'Drug Groups', 'InChIKey', 'InChI',\n",
       "       'SMILES', 'Formula', 'KEGG Compound ID', 'KEGG Drug ID',\n",
       "       'PubChem Compound ID', 'PubChem Substance ID', 'ChEBI ID', 'ChEMBL ID',\n",
       "       'HET ID', 'ChemSpider ID', 'BindingDB ID', 'Dataset'],\n",
       "      dtype='object')"
      ]
     },
     "execution_count": 23,
     "metadata": {},
     "output_type": "execute_result"
    }
   ],
   "source": [
    "drugbank_approved = pd.read_csv('../datasets/approved/DrugBank/drugbank_approved.csv')\n",
    "drugbank_approved['Dataset'] = 'drugbank_approved'\n",
    "print(len(drugbank_approved))\n",
    "drugbank_approved.columns"
   ]
  },
  {
   "cell_type": "markdown",
   "id": "06b12c9c",
   "metadata": {},
   "source": [
    "Check whether there is BiotechDrug in DrugBank_approved set"
   ]
  },
  {
   "cell_type": "code",
   "execution_count": null,
   "id": "6c033776",
   "metadata": {},
   "outputs": [
    {
     "name": "stdout",
     "output_type": "stream",
     "text": [
      "4304\n"
     ]
    },
    {
     "data": {
      "text/plain": [
       "Index(['DrugBank ID', 'Name', 'CAS Number', 'Drug Type', 'KEGG Compound ID',\n",
       "       'KEGG Drug ID', 'PubChem Compound ID', 'PubChem Substance ID',\n",
       "       'ChEBI ID', 'PharmGKB ID', 'HET ID', 'UniProt ID', 'UniProt Title',\n",
       "       'GenBank ID', 'DPD ID', 'RxList Link', 'Pdrhealth Link', 'Wikipedia ID',\n",
       "       'Drugs.com Link', 'NDC ID', 'ChemSpider ID', 'BindingDB ID', 'TTD ID'],\n",
       "      dtype='object')"
      ]
     },
     "execution_count": 21,
     "metadata": {},
     "output_type": "execute_result"
    }
   ],
   "source": [
    "drugbank_approved_extra = pd.read_csv('../datasets/approved/DrugBank/drugbank_approved_extra.csv')\n",
    "print(len(drugbank_approved_extra))\n",
    "drugbank_approved_extra.columns"
   ]
  },
  {
   "cell_type": "code",
   "execution_count": null,
   "id": "b5b3f831",
   "metadata": {},
   "outputs": [
    {
     "name": "stdout",
     "output_type": "stream",
     "text": [
      "2735\n",
      "2735\n"
     ]
    }
   ],
   "source": [
    "drugbank_approved_addInfo_onDrugbankID = drugbank_approved.merge(drugbank_approved_extra[['DrugBank ID', 'CAS Number', 'Drug Type']], how='left', on='DrugBank ID')\n",
    "print(len(drugbank_approved))\n",
    "print(len(drugbank_approved_addInfo_onDrugbankID))"
   ]
  },
  {
   "cell_type": "code",
   "execution_count": 20,
   "id": "15672d28",
   "metadata": {},
   "outputs": [
    {
     "data": {
      "text/plain": [
       "array(['SmallMoleculeDrug'], dtype=object)"
      ]
     },
     "execution_count": 20,
     "metadata": {},
     "output_type": "execute_result"
    }
   ],
   "source": [
    "drugbank_approved_addInfo_onDrugbankID['Drug Type'].unique()"
   ]
  },
  {
   "cell_type": "code",
   "execution_count": 25,
   "id": "f6822cf9",
   "metadata": {},
   "outputs": [
    {
     "name": "stdout",
     "output_type": "stream",
     "text": [
      "1095\n"
     ]
    }
   ],
   "source": [
    "drugbank_approved_OnlyKeepApproved = drugbank_approved.loc[drugbank_approved['Drug Groups'] == 'approved']\n",
    "print(len(drugbank_approved_OnlyKeepApproved))"
   ]
  },
  {
   "cell_type": "markdown",
   "id": "940fab62",
   "metadata": {},
   "source": [
    "Manually check drugbank_approved set"
   ]
  },
  {
   "cell_type": "code",
   "execution_count": 26,
   "id": "ae3a1e14",
   "metadata": {},
   "outputs": [
    {
     "name": "stdout",
     "output_type": "stream",
     "text": [
      "168\n"
     ]
    }
   ],
   "source": [
    "check_nan = drugbank_approved_OnlyKeepApproved[['Name', 'CAS Number', 'SMILES', 'ChEMBL ID']]\n",
    "check_nan = check_nan[check_nan[['SMILES', 'ChEMBL ID']].isna().any(axis=1)]\n",
    "print(len(check_nan))"
   ]
  },
  {
   "cell_type": "code",
   "execution_count": null,
   "id": "f6200a6a",
   "metadata": {},
   "outputs": [
    {
     "name": "stdout",
     "output_type": "stream",
     "text": [
      "927\n"
     ]
    }
   ],
   "source": [
    "check_nan = pd.read_csv('../datasets/approved/DrugBank/check_nan.csv', sep='\\t')\n",
    "drugbank_approved_OnlyKeepApproved_dropna = drugbank_approved_OnlyKeepApproved.dropna(subset=['ChEMBL ID', 'SMILES'])\n",
    "print(len(drugbank_approved_OnlyKeepApproved_dropna))"
   ]
  },
  {
   "cell_type": "markdown",
   "id": "de5b795f",
   "metadata": {},
   "source": [
    "## 5. Withdrawn 2.0 -- Manually curated"
   ]
  },
  {
   "cell_type": "code",
   "execution_count": null,
   "id": "1253becf",
   "metadata": {},
   "outputs": [],
   "source": [
    "withdrawn_manual_processed = pd.read_csv(\"../datasets/ToxicAndBengin_pool/withdrawn2_ManualProcessed.csv\")\n",
    "withdrawn_manual_processed['status'] = 'withdrawn'\n",
    "withdrawn_manual_processed['dataset'] = 'Withdrawn2.0'\n",
    "withdrawn_manual_processed['ChEMBL ID'] = 'ChEMBL ID'\n",
    "withdrawn_GoTo_Toxic = withdrawn_manual_processed.loc[withdrawn_manual_processed['comment [Toxic(T)/Benign(B)/hold-out(-)]'] == 'T']\n",
    "withdrawn_GoTo_Benign = withdrawn_manual_processed.loc[withdrawn_manual_processed['comment [Toxic(T)/Benign(B)/hold-out(-)]'] == 'B']"
   ]
  },
  {
   "cell_type": "code",
   "execution_count": 32,
   "id": "3099b5b6",
   "metadata": {},
   "outputs": [
    {
     "name": "stdout",
     "output_type": "stream",
     "text": [
      "10\n",
      "37\n"
     ]
    }
   ],
   "source": [
    "print(len(withdrawn_GoTo_Toxic))\n",
    "print(len(withdrawn_GoTo_Benign))"
   ]
  },
  {
   "cell_type": "markdown",
   "id": "c1a9bed1",
   "metadata": {},
   "source": [
    "## 6. Standardization of the data sets"
   ]
  },
  {
   "cell_type": "markdown",
   "id": "3be5c9f6",
   "metadata": {},
   "source": [
    "benign (after name matching)"
   ]
  },
  {
   "cell_type": "code",
   "execution_count": null,
   "id": "dea03a11",
   "metadata": {},
   "outputs": [],
   "source": [
    "benign_set = pd.read_csv(\"../datasets/data_aact/Pipe-Delimited/check_other_phase_1/bad,good,multi_drugs/good_part_process/final_set/result_total(1-5).csv\", sep='|')\n",
    "benign_ManuallyCurated_set = pd.read_csv(\"../datasets/data_aact/Pipe-Delimited/check_other_phase_1/bad,good,multi_drugs/good_part_process/final_set/df2_goodpart_ManuallyCurated.csv\", sep=',')\n",
    "drugbank_approved = pd.read_csv(\"../datasets/approved/DrugBank/drugbank_approved_OnlyKeepApproved_dropna.csv\", sep=',')"
   ]
  },
  {
   "cell_type": "code",
   "execution_count": 51,
   "id": "cdb8ec79",
   "metadata": {},
   "outputs": [],
   "source": [
    "benign_set['Dataset'] = 'clinical_trial'\n",
    "benign_ManuallyCurated_set['Dataset'] = 'clinical_trial'"
   ]
  },
  {
   "cell_type": "code",
   "execution_count": 52,
   "id": "a0f38dba",
   "metadata": {},
   "outputs": [
    {
     "name": "stdout",
     "output_type": "stream",
     "text": [
      "1269\n",
      "298\n"
     ]
    }
   ],
   "source": [
    "print(len(benign_ManuallyCurated_set))\n",
    "benign_ManuallyCurated_set_WithSmiles = benign_ManuallyCurated_set.loc[~benign_ManuallyCurated_set['SMILES'].isna()]\n",
    "print(len(benign_ManuallyCurated_set_WithSmiles))"
   ]
  },
  {
   "cell_type": "code",
   "execution_count": null,
   "id": "80ab3dee",
   "metadata": {},
   "outputs": [],
   "source": [
    "benign_ManuallyCurated_set_WithSmiles = benign_ManuallyCurated_set_WithSmiles.rename(columns={'Name':'Name_ori'})\n",
    "benign_set_S = Standardize_dataset_format(benign_set, 'Name', 'phase', 'ChEMBL ID', 'SMILES', 'Dataset')\n",
    "benign_ManuallyCurated_set_S = Standardize_dataset_format(benign_ManuallyCurated_set_WithSmiles, 'name_to_use', 'phase', 'ChEMBL ID', 'SMILES', 'Dataset')\n",
    "drugbank_approved_S = Standardize_dataset_format(drugbank_approved, 'Name', 'Drug Groups', 'ChEMBL ID', 'SMILES', 'Dataset')\n",
    "withdrawn_GoTo_Benign_S = Standardize_dataset_format(withdrawn_GoTo_Benign, 'Name', 'status', 'ChEMBL ID', 'preprocessedSmiles', 'dataset')"
   ]
  },
  {
   "cell_type": "markdown",
   "id": "f5d45732",
   "metadata": {},
   "source": [
    "Toxic"
   ]
  },
  {
   "cell_type": "code",
   "execution_count": null,
   "id": "72971d15",
   "metadata": {},
   "outputs": [],
   "source": [
    "PM_ToxDrugs[['ChEMBL ID', 'SMILES']] = ' '\n",
    "DILI_withdrawn[['ChEMBL ID', 'SMILES']] = ' '"
   ]
  },
  {
   "cell_type": "code",
   "execution_count": null,
   "id": "b54d6cd0",
   "metadata": {},
   "outputs": [],
   "source": [
    "Drugbank_approved_simplified = Standardize_dataset_format(drugbank_approved_OnlyKeepApproved_dropna, 'Name', 'Drug Groups', 'ChEMBL ID', 'SMILES', 'Dataset')\n",
    "Chembl_withdrawn_simplified = Standardize_dataset_format(Merge_SMILES_chembl_withdrawn_dropna, 'Parent Molecule Name', 'Warning Type', 'chembl_id', 'canonical_smiles', 'Dataset')\n",
    "DILI_simplified = Standardize_dataset_format(DILI_withdrawn, 'Compound', 'status', 'ChEMBL ID', 'SMILES', 'Dataset')\n",
    "PostMarketing_simplified = Standardize_dataset_format(PM_ToxDrugs, 'Name', 'status', 'ChEMBL ID', 'SMILES', 'Dataset')"
   ]
  },
  {
   "cell_type": "markdown",
   "id": "97220bfb",
   "metadata": {},
   "source": [
    "Concatenate withdrawn data sets and drop duplicates"
   ]
  },
  {
   "cell_type": "code",
   "execution_count": null,
   "id": "03ebf438",
   "metadata": {},
   "outputs": [],
   "source": [
    "list_withdrawn = [PostMarketing_simplified, Chembl_withdrawn_simplified, DILI_simplified]\n",
    "combine_withdrawn = pd.concat(list_withdrawn)"
   ]
  },
  {
   "cell_type": "code",
   "execution_count": null,
   "id": "ea2746fb",
   "metadata": {},
   "outputs": [],
   "source": [
    "withdrawn_GoTo_Toxic_S = Standardize_dataset_format(withdrawn_GoTo_Toxic, 'Name', 'status', 'ChEMBL ID', 'preprocessedSmiles', 'dataset')"
   ]
  },
  {
   "cell_type": "code",
   "execution_count": null,
   "id": "a1d26925",
   "metadata": {},
   "outputs": [
    {
     "data": {
      "text/plain": [
       "0               Acetanilide\n",
       "1                 Acetarsol\n",
       "2         Acetylfuratrizine\n",
       "3                 Acitretin\n",
       "4      Acridine derivatives\n",
       "               ...         \n",
       "598            troglitazone\n",
       "599           trovafloxacin\n",
       "600           xenazoic acid\n",
       "601            ximelagatran\n",
       "602               zimeldine\n",
       "Name: Name, Length: 603, dtype: object"
      ]
     },
     "execution_count": 33,
     "metadata": {},
     "output_type": "execute_result"
    }
   ],
   "source": [
    "combine_withdrawn = pd.read_csv('../datasets/toxic_pool_recheck/withdrawn.csv')\n",
    "combine_withdrawn.Name"
   ]
  }
 ],
 "metadata": {
  "kernelspec": {
   "display_name": "hzhang",
   "language": "python",
   "name": "python3"
  },
  "language_info": {
   "codemirror_mode": {
    "name": "ipython",
    "version": 3
   },
   "file_extension": ".py",
   "mimetype": "text/x-python",
   "name": "python",
   "nbconvert_exporter": "python",
   "pygments_lexer": "ipython3",
   "version": "3.7.16"
  }
 },
 "nbformat": 4,
 "nbformat_minor": 5
}
