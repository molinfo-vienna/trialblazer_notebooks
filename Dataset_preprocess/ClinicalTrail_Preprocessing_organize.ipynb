{
 "cells": [
  {
   "cell_type": "code",
   "execution_count": null,
   "metadata": {},
   "outputs": [],
   "source": [
    "from pathlib import Path         \n",
    "import pandas as pd\n",
    "from trialblazer.Dataset_preprocess.clinicaltrial_preprocess import extract_filesFromZip, prepocess_wholeset"
   ]
  },
  {
   "cell_type": "markdown",
   "metadata": {},
   "source": [
    "### Preprocess"
   ]
  },
  {
   "cell_type": "markdown",
   "metadata": {},
   "source": [
    "extract txt files from the zip files"
   ]
  },
  {
   "cell_type": "code",
   "execution_count": null,
   "metadata": {},
   "outputs": [],
   "source": [
    "input_Path = Path('../data_aact/Pipe-Delimited/')\n",
    "dir_out = Path('../data_aact/Pipe-Delimited/')\n",
    "extract_filesFromZip(input_Path, dir_out)"
   ]
  },
  {
   "cell_type": "markdown",
   "metadata": {},
   "source": [
    "process the unzipped files"
   ]
  },
  {
   "cell_type": "code",
   "execution_count": null,
   "metadata": {},
   "outputs": [],
   "source": [
    "count_path = '../data_aact/Pipe-Delimited/'\n",
    "prepocess_wholeset(count_path)"
   ]
  },
  {
   "cell_type": "markdown",
   "metadata": {},
   "source": [
    "generate benign set: select specific phases and overall_status "
   ]
  },
  {
   "cell_type": "code",
   "execution_count": null,
   "metadata": {},
   "outputs": [],
   "source": [
    "toxicity_negative_exclude = pd.read_csv('../data_aact/Pipe-Delimited/check_other_phase_1/toxicity_multidrugs_excluded.csv', sep='|')"
   ]
  },
  {
   "cell_type": "code",
   "execution_count": null,
   "metadata": {},
   "outputs": [],
   "source": [
    "list_phase = ['Phase 3', 'Phase 4']\n",
    "list_overall_status = ['Completed', 'Approved for marketing']"
   ]
  },
  {
   "cell_type": "code",
   "execution_count": null,
   "metadata": {},
   "outputs": [],
   "source": [
    "toxicity_exclude_StatusAndPhaseSelected = toxicity_negative_exclude.loc[(toxicity_negative_exclude['phase'].str.contains('|'.join(list_phase))) & (toxicity_negative_exclude['overall_status'].str.contains('|'.join(list_overall_status)))]\n",
    "benign_raw = toxicity_exclude_StatusAndPhaseSelected.groupby(['Name'])[['nct_id', 'phase', 'overall_status', 'reason', 'why_stopped']].agg(lambda x: '; '.join(set(str(i) for i in x if not pd.isna(i)))).reset_index()"
   ]
  }
 ],
 "metadata": {
  "kernelspec": {
   "display_name": "trialblazer",
   "language": "python",
   "name": "python3"
  },
  "language_info": {
   "codemirror_mode": {
    "name": "ipython",
    "version": 3
   },
   "file_extension": ".py",
   "mimetype": "text/x-python",
   "name": "python",
   "nbconvert_exporter": "python",
   "pygments_lexer": "ipython3",
   "version": "3.12.10"
  },
  "orig_nbformat": 4
 },
 "nbformat": 4,
 "nbformat_minor": 2
}
