{
 "cells": [
  {
   "cell_type": "code",
   "execution_count": 1,
   "metadata": {},
   "outputs": [
    {
     "name": "stderr",
     "output_type": "stream",
     "text": [
      "[10:05:06] Initializing Normalizer\n"
     ]
    }
   ],
   "source": [
    "from trialblazer.Dataset_preprocess.name_extraction_Smilesmatching import ExtractingDrugsNamesAndSmilesMatching\n",
    "import pandas as pd"
   ]
  },
  {
   "cell_type": "markdown",
   "metadata": {},
   "source": [
    "## Training data"
   ]
  },
  {
   "cell_type": "markdown",
   "metadata": {},
   "source": [
    "### Benign data_Approved drug"
   ]
  },
  {
   "cell_type": "code",
   "execution_count": null,
   "metadata": {},
   "outputs": [],
   "source": [
    "DrugBank_approved_dropnan = pd.read_csv('../datasets/approved/DrugBank/check_nan.csv', sep='\\t')"
   ]
  },
  {
   "cell_type": "code",
   "execution_count": null,
   "metadata": {},
   "outputs": [],
   "source": [
    "Approved_drugs_dropnan_SmilesMatched, GoTo_NextRound = ExtractingDrugsNamesAndSmilesMatching(DrugBank_approved_dropnan,'Name')"
   ]
  },
  {
   "cell_type": "markdown",
   "metadata": {},
   "source": [
    "### Benign data_ClinicalTrial"
   ]
  },
  {
   "cell_type": "code",
   "execution_count": 51,
   "metadata": {},
   "outputs": [],
   "source": [
    "def phase_select(phase):\n",
    "        if \"Phase 3\" in phase and \"Phase 4\" in phase:\n",
    "                return \"Phase 4\"\n",
    "        else:\n",
    "                return phase"
   ]
  },
  {
   "cell_type": "code",
   "execution_count": null,
   "metadata": {},
   "outputs": [],
   "source": [
    "Benign_annotated = pd.read_csv(\"../datasets/data_aact/Pipe-Delimited/check_other_phase_1/bad,good,multi_drugs/good_part_process/df1_goodpart_annotated_20231205.csv\")"
   ]
  },
  {
   "cell_type": "code",
   "execution_count": 19,
   "metadata": {},
   "outputs": [],
   "source": [
    "Benign_annotated = Benign_annotated.drop(columns=['replace_Name','DNER_with_spacy'])"
   ]
  },
  {
   "cell_type": "code",
   "execution_count": null,
   "metadata": {},
   "outputs": [],
   "source": [
    "ClinicalTrial_benign_SmilesMatched, GoTo_NextRound = ExtractingDrugsNamesAndSmilesMatching(Benign_annotated,'Name-Huanni')"
   ]
  },
  {
   "cell_type": "markdown",
   "metadata": {},
   "source": [
    "phase selecting: only use phase 3 and phase 4 drugs"
   ]
  },
  {
   "cell_type": "code",
   "execution_count": null,
   "metadata": {},
   "outputs": [],
   "source": [
    "phase_NeedToExcluded = ['Phase 2/Phase 3', 'SPD489']\n",
    "Benign_annotated_phase_filtered = ClinicalTrial_benign_SmilesMatched.loc[ClinicalTrial_benign_SmilesMatched['phase'].str.contains('|'.join(phase_NeedToExcluded)) == False]\n",
    "Benign_annotated_phase_filtered['phase']=  Benign_annotated_phase_filtered['phase'].apply(phase_select)"
   ]
  },
  {
   "cell_type": "markdown",
   "metadata": {},
   "source": [
    "### Toxic data_clinicalTrial"
   ]
  },
  {
   "cell_type": "code",
   "execution_count": null,
   "metadata": {},
   "outputs": [],
   "source": [
    "toxic_drugs = pd.read_csv(\"../datasets/data_aact/Pipe-Delimited/check_other_phase_1/bad,good,multi_drugs/toxic_part_process/toxicity_onedrug.csv\", sep='|')\n",
    "toxic_drugs.drop(columns=['replace_Name', 'DNER_with_spacy', 'name_to_use', 'synonyms',\t'drugbank_id'], inplace = True)"
   ]
  },
  {
   "cell_type": "code",
   "execution_count": null,
   "metadata": {},
   "outputs": [],
   "source": [
    "ClinicalTrial_benign_SmilesMatched, GoTo_NextRound = ExtractingDrugsNamesAndSmilesMatching(toxic_drugs,'Name_check')"
   ]
  },
  {
   "cell_type": "markdown",
   "metadata": {},
   "source": [
    "after manually curated"
   ]
  },
  {
   "cell_type": "code",
   "execution_count": null,
   "metadata": {},
   "outputs": [],
   "source": [
    "clinical_trial_toxic = pd.read_csv(\"../datasets/toxic_pool/clinical_trial_toxic.csv\", sep='|')"
   ]
  },
  {
   "cell_type": "markdown",
   "metadata": {},
   "source": [
    "### Toxic data_other than clinical trial data"
   ]
  },
  {
   "cell_type": "markdown",
   "metadata": {},
   "source": [
    "Load prepared withdrawn dataset"
   ]
  },
  {
   "cell_type": "code",
   "execution_count": null,
   "metadata": {},
   "outputs": [],
   "source": [
    "withdrawn = pd.read_csv(\"../datasets/toxic_pool_recheck/withdrawn.csv\")\n",
    "withdrawn.rename(columns={'SMILES':'SMILES_ORI'}, inplace=True)"
   ]
  },
  {
   "cell_type": "code",
   "execution_count": null,
   "metadata": {},
   "outputs": [],
   "source": [
    "Withdrawn_toxic_SmilesMatched, GoTo_NextRound = ExtractingDrugsNamesAndSmilesMatching(withdrawn,'Name')"
   ]
  },
  {
   "cell_type": "markdown",
   "metadata": {},
   "source": [
    "After manual curation"
   ]
  },
  {
   "cell_type": "code",
   "execution_count": null,
   "metadata": {},
   "outputs": [],
   "source": [
    "withdrawn_SmilesMatched = pd.read_csv('../toxic_withdrawn_organized/withdrawn_SmilesMatched.csv', sep='|')\n",
    "withdrawn_manual_add = pd.read_csv('../toxic_withdrawn_organized/GoTo_NextRound_Manual_check.csv', sep='|')"
   ]
  },
  {
   "cell_type": "code",
   "execution_count": 11,
   "metadata": {},
   "outputs": [],
   "source": [
    "manually_curated_SMILES = withdrawn_manual_add.loc[withdrawn_manual_add['SMILES'] != '-']\n",
    "Fail_to_curate_SMILES = withdrawn_manual_add.loc[withdrawn_manual_add['SMILES'] == '-']"
   ]
  },
  {
   "cell_type": "code",
   "execution_count": 12,
   "metadata": {},
   "outputs": [
    {
     "name": "stdout",
     "output_type": "stream",
     "text": [
      "length of manually curated SMILES: 19\n",
      "length of compounds be removed: 48\n"
     ]
    }
   ],
   "source": [
    "print(\"length of manually curated SMILES:\", len(manually_curated_SMILES))\n",
    "print(\"length of compounds be removed:\", len(Fail_to_curate_SMILES))"
   ]
  },
  {
   "cell_type": "code",
   "execution_count": 13,
   "metadata": {},
   "outputs": [],
   "source": [
    "withdrawn_smiles = pd.concat([withdrawn_SmilesMatched, manually_curated_SMILES], ignore_index=True)"
   ]
  },
  {
   "cell_type": "markdown",
   "metadata": {},
   "source": [
    "## Test set data"
   ]
  },
  {
   "cell_type": "code",
   "execution_count": null,
   "metadata": {},
   "outputs": [],
   "source": [
    "EMA_approved = pd.read_csv(\"../external_test_set/EMA_approved.csv\", sep='|')\n",
    "KEGG_Japan_approved = pd.read_csv(\"../external_test_set/KEGG_Japan_approved.csv\", sep='|')"
   ]
  },
  {
   "cell_type": "code",
   "execution_count": null,
   "metadata": {},
   "outputs": [],
   "source": [
    "EMA_SmilesMatched, EMA_GoTo_NextRound = ExtractingDrugsNamesAndSmilesMatching(EMA_approved, 'Active substance')"
   ]
  },
  {
   "cell_type": "code",
   "execution_count": null,
   "metadata": {},
   "outputs": [],
   "source": [
    "print(\"then number of the matched SMIELS from EMA:\", len(EMA_SmilesMatched))\n",
    "print(\"then number of the SMILES can not automatically match from EMA:\", len(EMA_GoTo_NextRound))"
   ]
  },
  {
   "cell_type": "code",
   "execution_count": null,
   "metadata": {},
   "outputs": [],
   "source": [
    "KEGG_Japan_SmilesMatched, KEGG_Japan_GoTo_NextRound = ExtractingDrugsNamesAndSmilesMatching(KEGG_Japan_approved, 'Active ingredient')"
   ]
  },
  {
   "cell_type": "code",
   "execution_count": 74,
   "metadata": {},
   "outputs": [
    {
     "name": "stdout",
     "output_type": "stream",
     "text": [
      "then number of the matched SMIELS from KEGG_Japan: 1493\n",
      "then number of the SMILES can not automatically match from KEGG_Japan: 651\n"
     ]
    }
   ],
   "source": [
    "print(\"then number of the matched SMIELS from KEGG_Japan:\", len(KEGG_Japan_SmilesMatched))\n",
    "print(\"then number of the SMILES can not automatically match from KEGG_Japan:\", len(KEGG_Japan_GoTo_NextRound))"
   ]
  },
  {
   "cell_type": "markdown",
   "metadata": {},
   "source": [
    "Process the manually added SMILES notation"
   ]
  },
  {
   "cell_type": "code",
   "execution_count": null,
   "metadata": {},
   "outputs": [],
   "source": [
    "EMA_SmilesMatched = pd.read_csv(\"../external_test_set/EMA_SmilesMatched.csv\", sep='|')\n",
    "KEGG_Japan_SmilesMatched= pd.read_csv(\"../external_test_set/KEGG_Japan_SmilesMatched.csv\", sep='|')\n",
    "EMA_SmilesMatched['resource'] = 'EMA'\n",
    "KEGG_Japan_SmilesMatched['resource'] = 'KEGG'"
   ]
  },
  {
   "cell_type": "code",
   "execution_count": 22,
   "metadata": {},
   "outputs": [],
   "source": [
    "EMA_SmilesMatched_sim = EMA_SmilesMatched[['Medicine name', 'SMILES','resource']]\n",
    "KEGG_SmilesMatched_sim = KEGG_Japan_SmilesMatched[['Active ingredient', 'SMILES','resource']]"
   ]
  },
  {
   "cell_type": "code",
   "execution_count": null,
   "metadata": {},
   "outputs": [],
   "source": [
    "unmatched_KEGG_sarah = pd.read_csv('../drugname_unmatched_KEGGandEMA/KEGG_Japan_unmatched_sarah.csv_with_smiles.txt', sep='\\t', names=['Active ingredient','CID','SMILES'])\n",
    "unmatched_EMA_sarah = pd.read_csv('../drugname_unmatched_KEGGandEMA/EMA_Japan_unmatched_sarah.csv_with_smiles.txt', sep='\\t', names=['Medicine name','CID','SMILES'])\n",
    "unmatched_KEGG_sarah_SMILES = unmatched_KEGG_sarah[unmatched_KEGG_sarah['SMILES'] != 'Not Found'][['Active ingredient','SMILES']]\n",
    "unmatched_EMA_sarah_SMILES = unmatched_EMA_sarah[unmatched_EMA_sarah['SMILES'] != 'Not Found'][['Medicine name','SMILES']]"
   ]
  },
  {
   "cell_type": "code",
   "execution_count": 44,
   "metadata": {},
   "outputs": [],
   "source": [
    "unmatched_KEGG_sarah_SMILES['resource'] = 'KEGG'\n",
    "unmatched_EMA_sarah_SMILES['resource'] = 'EMA'"
   ]
  },
  {
   "cell_type": "code",
   "execution_count": null,
   "metadata": {},
   "outputs": [],
   "source": [
    "EMA_concat = pd.concat([EMA_SmilesMatched_sim,unmatched_EMA_sarah_SMILES], ignore_index=True)\n",
    "EMA_concat.rename(columns={'Medicine name':'Name'},inplace=True)"
   ]
  },
  {
   "cell_type": "code",
   "execution_count": null,
   "metadata": {},
   "outputs": [],
   "source": [
    "KEGG_concat = pd.concat([KEGG_SmilesMatched_sim, unmatched_KEGG_sarah_SMILES], ignore_index=True)\n",
    "KEGG_concat.rename(columns={'Active ingredient':'Name'}, inplace=True)"
   ]
  },
  {
   "cell_type": "code",
   "execution_count": null,
   "metadata": {},
   "outputs": [],
   "source": [
    "Testset_Approved = pd.concat([EMA_concat,KEGG_concat], ignore_index=True)"
   ]
  }
 ],
 "metadata": {
  "kernelspec": {
   "display_name": "trialblazer",
   "language": "python",
   "name": "python3"
  },
  "language_info": {
   "codemirror_mode": {
    "name": "ipython",
    "version": 3
   },
   "file_extension": ".py",
   "mimetype": "text/x-python",
   "name": "python",
   "nbconvert_exporter": "python",
   "pygments_lexer": "ipython3",
   "version": "3.12.10"
  },
  "orig_nbformat": 4
 },
 "nbformat": 4,
 "nbformat_minor": 2
}
