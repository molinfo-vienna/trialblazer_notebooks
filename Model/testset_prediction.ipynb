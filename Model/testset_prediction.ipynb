{
 "cells": [
  {
   "cell_type": "code",
   "execution_count": null,
   "id": "38d093f2",
   "metadata": {},
   "outputs": [],
   "source": [
    "import numpy as np\n",
    "import pandas as pd\n",
    "from scipy.stats import mannwhitneyu\n",
    "from rdkit import Chem\n",
    "from rdkit.Chem import Crippen, Descriptors\n",
    "from trialblazer import Trialblazer\n",
    "from trialblazer.Model.testset_visualization import (\n",
    "    plot_score_distribution_with_significance,\n",
    "    plot_correlation,\n",
    "    SuspectedAdverseDrugEvents_count,\n",
    "    SuspectedAdverseDrugEvents_count_for_eachdrug,\n",
    "    SuspectedAdverseDrugEvents_Totalcount_for_eachdrug\n",
    ")\n",
    "from rdkit import RDLogger\n",
    "RDLogger.DisableLog('rdApp.*')\n"
   ]
  },
  {
   "cell_type": "code",
   "execution_count": null,
   "id": "c3d05d87",
   "metadata": {},
   "outputs": [],
   "source": [
    "def get_logp(mol):\n",
    "    return round(Crippen.MolLogP(mol), 3)\n",
    "\n",
    "def cal_mw(mol):\n",
    "    return round(Descriptors.MolWt(mol), 3)\n",
    "\n",
    "def select_compounds(predictions, approved_drugs_info):\n",
    "    predictions['PrOCTOR_score'] = predictions['PrOCTOR_score'].astype(float)\n",
    "    sorted_predictions = predictions.sort_values(by='PrOCTOR_score', ascending=False, ignore_index=True)\n",
    "    single_component_predictions = sorted_predictions[~sorted_predictions.id.str.contains(r\"\\d+x\\d+\")] # need to remove multi-components because it probably dont't have a name\n",
    "    top_info, top_drug_names = connect_drug_name(approved_drugs_info, single_component_predictions, head=True)\n",
    "    bottom_info, bottom_drug_names = connect_drug_name(approved_drugs_info, single_component_predictions, tail=True)\n",
    "    return top_info, bottom_info, top_drug_names, bottom_drug_names\n",
    "\n",
    "def connect_drug_name(approved_drugs_info, single_component_predictions, head=False, tail=False):\n",
    "    if head:\n",
    "        single_component_predictions = single_component_predictions.head(20)\n",
    "    elif tail:\n",
    "        single_component_predictions = single_component_predictions.tail(20)\n",
    "    single_component_predictions['mol'] = single_component_predictions['smi'].apply(Chem.MolFromSmiles)\n",
    "    approved_drugs_info = approved_drugs_info.rename(columns={'chembl_id': 'id'})\n",
    "    approved_drugs_info['id'] = approved_drugs_info['id'].astype(str)\n",
    "    merged_info = single_component_predictions.merge(approved_drugs_info, how='left', on='id')\n",
    "    merged_info = merged_info.rename(columns={'name_to_use': 'Name'})\n",
    "    drug_names = merged_info['Name'].tolist()\n",
    "    return merged_info, drug_names"
   ]
  },
  {
   "cell_type": "code",
   "execution_count": null,
   "id": "8b401812",
   "metadata": {},
   "outputs": [],
   "source": [
    "Training_data = pd.read_csv(\"../Data/Training_data_withoutInfo.csv\", sep='|')\n",
    "Testset_data= pd.read_csv('../Data/test_set_data.csv')\n",
    "Training_data_with_features = pd.read_csv(\"../Data/training_features.csv\")"
   ]
  },
  {
   "cell_type": "code",
   "execution_count": null,
   "id": "1524f344",
   "metadata": {},
   "outputs": [],
   "source": [
    "print(len(Testset_data))\n",
    "print(Testset_data.columns)\n",
    "Testset_data['Mark'] = 0"
   ]
  },
  {
   "cell_type": "markdown",
   "id": "541475e1",
   "metadata": {},
   "source": [
    "Check whethere there is overlap between training compounds and test set compounds"
   ]
  },
  {
   "cell_type": "code",
   "execution_count": null,
   "id": "2ecf698c",
   "metadata": {},
   "outputs": [],
   "source": [
    "Testset_data['inchi_noStereo'] = Testset_data['SmilesForDropDu'].apply(lambda x: Chem.MolToInchi(Chem.MolFromSmiles(x)))"
   ]
  },
  {
   "cell_type": "code",
   "execution_count": null,
   "id": "d6d0fc26",
   "metadata": {},
   "outputs": [],
   "source": [
    "training_set_inchi_list = Training_data['inchi_noStereo'].to_list()\n",
    "print(len(Testset_data[Testset_data['inchi_noStereo'].isin(training_set_inchi_list)]))"
   ]
  },
  {
   "cell_type": "markdown",
   "id": "3de8df67",
   "metadata": {},
   "source": [
    "# Prediction based on M2FPs features or M2FPs+PBFPs features"
   ]
  },
  {
   "cell_type": "markdown",
   "id": "535d339f",
   "metadata": {},
   "source": [
    "To reproduce the results from scratch, use the original_testset_data to run the model. This will take approximately a few hours."
   ]
  },
  {
   "cell_type": "code",
   "execution_count": null,
   "id": "cdc61ff3",
   "metadata": {},
   "outputs": [],
   "source": [
    "# original_testset_data = pd.read_csv(\"../Data/Testset_raw_with_drugname.csv\")"
   ]
  },
  {
   "cell_type": "code",
   "execution_count": null,
   "id": "5dd2ae6f",
   "metadata": {},
   "outputs": [],
   "source": [
    "# raw_testdata_SMILES = original_testset_data['SmilesForDropDu'].tolist()\n",
    "# model = Trialblazer()\n",
    "# model.import_smiles(smiles=raw_testdata_SMILES)\n",
    "# model.run()\n",
    "# testset_prediction = model.result.copy()"
   ]
  },
  {
   "cell_type": "markdown",
   "id": "dc40f3d0",
   "metadata": {},
   "source": [
    "model prediction based on M2FPs+PBFPs "
   ]
  },
  {
   "cell_type": "code",
   "execution_count": null,
   "id": "4a203545",
   "metadata": {},
   "outputs": [],
   "source": [
    "model_combined_feature = Trialblazer(remove_MultiComponent_cpd=False)\n",
    "model_combined_feature.test_set=Testset_data\n",
    "model_combined_feature.run()\n",
    "prediction_combined_feature = model_combined_feature.result.copy()"
   ]
  },
  {
   "cell_type": "code",
   "execution_count": null,
   "id": "e4412c31",
   "metadata": {},
   "outputs": [],
   "source": [
    "prediction_combined_feature"
   ]
  },
  {
   "cell_type": "markdown",
   "id": "fd1a9d52",
   "metadata": {},
   "source": [
    "model prediction based on M2FPs"
   ]
  },
  {
   "cell_type": "code",
   "execution_count": null,
   "id": "8aca72e2",
   "metadata": {},
   "outputs": [],
   "source": [
    "model_M2FP = Trialblazer(M2FP_only=True, remove_MultiComponent_cpd=False)\n",
    "model_M2FP.test_set=Testset_data\n",
    "model_M2FP.run()\n",
    "prediction_M2FP = model_M2FP.get_dataframe()"
   ]
  },
  {
   "cell_type": "markdown",
   "id": "be06786b",
   "metadata": {},
   "source": [
    "# Assign scores to benign and toxic compounds in the training set"
   ]
  },
  {
   "cell_type": "code",
   "execution_count": null,
   "id": "00318bb1",
   "metadata": {},
   "outputs": [],
   "source": [
    "benign_set = Training_data_with_features[Training_data_with_features.Mark == 0]\n",
    "toxic_set = Training_data_with_features[Training_data_with_features.Mark == 1]"
   ]
  },
  {
   "cell_type": "markdown",
   "id": "8a572168",
   "metadata": {},
   "source": [
    "model prediction based on M2FPs"
   ]
  },
  {
   "cell_type": "code",
   "execution_count": null,
   "id": "527ca2d7",
   "metadata": {},
   "outputs": [],
   "source": [
    "model_M2FP= Trialblazer(M2FP_only = True, remove_MultiComponent_cpd=False)\n",
    "model_M2FP.test_set=benign_set\n",
    "model_M2FP.run()\n",
    "prediction_benign_set_M2FP = model_M2FP.result.copy()"
   ]
  },
  {
   "cell_type": "code",
   "execution_count": null,
   "id": "1dad766b",
   "metadata": {},
   "outputs": [],
   "source": [
    "model_M2FP = Trialblazer(M2FP_only = True, remove_MultiComponent_cpd=False)\n",
    "model_M2FP.test_set=toxic_set\n",
    "model_M2FP.run()\n",
    "prediction_toxic_set_M2FP = model_M2FP.result.copy()"
   ]
  },
  {
   "cell_type": "markdown",
   "id": "dc85c097",
   "metadata": {},
   "source": [
    "model prediction based on M2FPs+PBFPs"
   ]
  },
  {
   "cell_type": "code",
   "execution_count": null,
   "id": "f4cd5275",
   "metadata": {},
   "outputs": [],
   "source": [
    "model_combined_feature= Trialblazer(remove_MultiComponent_cpd=False)\n",
    "model_combined_feature.test_set=benign_set\n",
    "model_combined_feature.run()\n",
    "prediction_benign_set = model_combined_feature.result.copy()"
   ]
  },
  {
   "cell_type": "code",
   "execution_count": null,
   "id": "b99ca146",
   "metadata": {},
   "outputs": [],
   "source": [
    "model_combined_feature = Trialblazer(remove_MultiComponent_cpd=False)\n",
    "model_combined_feature.test_set=toxic_set\n",
    "model_combined_feature.run()\n",
    "prediction_toxic_set = model_combined_feature.result.copy()"
   ]
  },
  {
   "cell_type": "markdown",
   "id": "07d85b8a",
   "metadata": {},
   "source": [
    "## PrOCTOR score distribution for benign, toxic, and test sets"
   ]
  },
  {
   "cell_type": "markdown",
   "id": "34f6c4aa",
   "metadata": {},
   "source": [
    "Example of model based on M2FPs+PBFPs features"
   ]
  },
  {
   "cell_type": "code",
   "execution_count": null,
   "id": "0dd7ef0a",
   "metadata": {},
   "outputs": [],
   "source": [
    "Testset_withScore = np.array(prediction_combined_feature.PrOCTOR_score)\n",
    "benign = np.array(prediction_benign_set.PrOCTOR_score)\n",
    "toxic = np.array(prediction_toxic_set.PrOCTOR_score)"
   ]
  },
  {
   "cell_type": "code",
   "execution_count": null,
   "id": "55881e37",
   "metadata": {},
   "outputs": [],
   "source": [
    "print(np.mean(Testset_withScore).round(2))\n",
    "print(np.mean(benign).round(2))\n",
    "print(np.mean(toxic).round(2))"
   ]
  },
  {
   "cell_type": "code",
   "execution_count": null,
   "id": "1aa3488f",
   "metadata": {},
   "outputs": [],
   "source": [
    "labels = (\"Benign compounds\\nTraining set\",\"Toxic compounds\\nTraining set\",\"Benign compounds\\nTest set\")\n",
    "data = pd.DataFrame({\n",
    "    \"Value\": np.concatenate([benign, toxic, Testset_withScore]),\n",
    "    \"Category\": np.repeat(labels, repeats=[len(benign), len(toxic), len(Testset_withScore)])\n",
    "})\n",
    "p_values = {}\n",
    "pairs = [(\"Benign compounds\\nTraining set\", \"Toxic compounds\\nTraining set\"), (\"Toxic compounds\\nTraining set\", \"Benign compounds\\nTest set\")]  # Pairs of categories to compare\n",
    "for cat1, cat2 in pairs:\n",
    "    stat, p = mannwhitneyu(np.array(data[data[\"Category\"] == cat1][\"Value\"]), np.array(data[data[\"Category\"] == cat2][\"Value\"]), alternative=\"two-sided\")\n",
    "    p_values[(cat1, cat2)] = p"
   ]
  },
  {
   "cell_type": "code",
   "execution_count": null,
   "id": "e8c40183",
   "metadata": {},
   "outputs": [],
   "source": [
    "plot_score_distribution_with_significance(data, p_values)"
   ]
  },
  {
   "cell_type": "markdown",
   "id": "55b3f12a",
   "metadata": {},
   "source": [
    "# Select compounds from test set according to PrOCTOR score"
   ]
  },
  {
   "cell_type": "code",
   "execution_count": null,
   "id": "fdb0fa89",
   "metadata": {},
   "outputs": [],
   "source": [
    "# Removing multi-components in here in order to find the drug name and evaluate the drug later\n",
    "model_combined_feature = Trialblazer()\n",
    "model_combined_feature.test_set=Testset_data\n",
    "model_combined_feature.run()\n",
    "prediction_combined_feature = model_combined_feature.result.copy()"
   ]
  },
  {
   "cell_type": "code",
   "execution_count": null,
   "id": "b4bbbcfe",
   "metadata": {},
   "outputs": [],
   "source": [
    "# predict_result_sorted_nameInfo_head, predict_result_sorted_nameInfo_tail, drugs_name_head, drugs_name_tail = select_compounds(\n",
    "#     prediction_combined_feature, \n",
    "#     Testset_drugs_with_name_new)"
   ]
  },
  {
   "cell_type": "markdown",
   "id": "582adb1d",
   "metadata": {},
   "source": [
    "## Top 10 drugs"
   ]
  },
  {
   "cell_type": "code",
   "execution_count": null,
   "id": "3eb9fe14",
   "metadata": {},
   "outputs": [],
   "source": [
    "predict_result_sorted_nameInfo_head = pd.read_csv(\"../Data/predict_result_sorted_nameInfo_head_nameMatching.csv\")\n",
    "predict_result_sorted_nameInfo_tail = pd.read_csv(\"../Data/predict_result_sorted_nameInfo_tail_nameMatching.csv\")"
   ]
  },
  {
   "cell_type": "code",
   "execution_count": null,
   "id": "1029319e",
   "metadata": {},
   "outputs": [],
   "source": [
    "drugs_name_head = list(predict_result_sorted_nameInfo_head['name_to_use'])\n",
    "predict_result_sorted_nameInfo_head['Name'] = drugs_name_head"
   ]
  },
  {
   "cell_type": "code",
   "execution_count": null,
   "id": "7e278acf",
   "metadata": {},
   "outputs": [],
   "source": [
    "# Only systemically administered drugs are selected to analyze\n",
    "predict_result_sorted_nameInfo_head = predict_result_sorted_nameInfo_head.iloc[[0,4,6,9,10,11,12,13,14,15]]\n",
    "drugs_name_head = list(predict_result_sorted_nameInfo_head['Name'])\n",
    "predict_result_sorted_nameInfo_head.mol = predict_result_sorted_nameInfo_head.smi.apply(Chem.MolFromSmiles)\n",
    "img_head = Chem.Draw.MolsToGridImage(list(predict_result_sorted_nameInfo_head['mol']),molsPerRow=5,subImgSize=(400,200), returnPNG=False, legends=drugs_name_head)\n",
    "img_head"
   ]
  },
  {
   "cell_type": "markdown",
   "id": "ae5d28c5",
   "metadata": {},
   "source": [
    "molecular weight and logP value calculation"
   ]
  },
  {
   "cell_type": "code",
   "execution_count": null,
   "id": "3e5bc1e1",
   "metadata": {},
   "outputs": [],
   "source": [
    "predict_result_sorted_nameInfo_head['mw'] = predict_result_sorted_nameInfo_head.mol.apply(cal_mw)\n",
    "print(round(np.mean(predict_result_sorted_nameInfo_head.head(10)['mw']),2))\n",
    "print(round(np.std(predict_result_sorted_nameInfo_head.head(10)['mw']),2))"
   ]
  },
  {
   "cell_type": "code",
   "execution_count": null,
   "id": "ce2261c7",
   "metadata": {},
   "outputs": [],
   "source": [
    "predict_result_sorted_nameInfo_head['logP'] = predict_result_sorted_nameInfo_head.mol.apply(get_logp)\n",
    "print(round(np.mean(predict_result_sorted_nameInfo_head.head(10)['logP']),2))\n",
    "print(round(np.std(predict_result_sorted_nameInfo_head.head(10)['logP']),2))"
   ]
  },
  {
   "cell_type": "markdown",
   "id": "ea0e251c",
   "metadata": {},
   "source": [
    "##  Tail 10 drugs"
   ]
  },
  {
   "cell_type": "code",
   "execution_count": null,
   "id": "10762b87",
   "metadata": {},
   "outputs": [],
   "source": [
    "drugs_name_tail = list(predict_result_sorted_nameInfo_tail['name_to_use'])\n",
    "predict_result_sorted_nameInfo_tail['Name'] = drugs_name_tail"
   ]
  },
  {
   "cell_type": "code",
   "execution_count": null,
   "id": "bf1ac5ac",
   "metadata": {},
   "outputs": [],
   "source": [
    "# Only systemically administered drugs are selected to analyze\n",
    "predict_result_sorted_nameInfo_tail = predict_result_sorted_nameInfo_tail.iloc[[18,17,15,13,12,11,10,9,8,6]]"
   ]
  },
  {
   "cell_type": "code",
   "execution_count": null,
   "id": "74eb98f1",
   "metadata": {},
   "outputs": [],
   "source": [
    "drugs_name_tail = list(predict_result_sorted_nameInfo_tail['Name'])\n",
    "drugs_name_tail[0] = 'Megestrol'"
   ]
  },
  {
   "cell_type": "code",
   "execution_count": null,
   "id": "d220e20f",
   "metadata": {},
   "outputs": [],
   "source": [
    "predict_result_sorted_nameInfo_tail.mol = predict_result_sorted_nameInfo_tail.smi.apply(Chem.MolFromSmiles)\n",
    "mols = predict_result_sorted_nameInfo_tail['mol'].tolist()[::-1]\n",
    "legends = drugs_name_tail[::-1]\n",
    "img_tail = Chem.Draw.MolsToGridImage(list(mols),molsPerRow=5,subImgSize=(400,200), returnPNG=False, legends=legends)\n",
    "img_tail"
   ]
  },
  {
   "cell_type": "markdown",
   "id": "2d7678c2",
   "metadata": {},
   "source": [
    "molecular weight and logP value calculation"
   ]
  },
  {
   "cell_type": "code",
   "execution_count": null,
   "id": "db21fd38",
   "metadata": {},
   "outputs": [],
   "source": [
    "predict_result_sorted_nameInfo_tail['mw'] = predict_result_sorted_nameInfo_tail.mol.apply(cal_mw)\n",
    "print(round(np.mean(predict_result_sorted_nameInfo_tail['mw']),2))\n",
    "print(round(np.std(predict_result_sorted_nameInfo_tail['mw']),2))"
   ]
  },
  {
   "cell_type": "code",
   "execution_count": null,
   "id": "98f98ef8",
   "metadata": {},
   "outputs": [],
   "source": [
    "predict_result_sorted_nameInfo_tail['logP'] = predict_result_sorted_nameInfo_tail.mol.apply(get_logp)\n",
    "print(round(np.mean(predict_result_sorted_nameInfo_tail.head(10)['logP']),2))\n",
    "print(round(np.std(predict_result_sorted_nameInfo_tail.head(10)['logP']),2))"
   ]
  },
  {
   "cell_type": "markdown",
   "id": "36bc0959",
   "metadata": {},
   "source": [
    "# Correlation between test set compounds' PrOCTOR scores and molecular weight"
   ]
  },
  {
   "cell_type": "code",
   "execution_count": null,
   "id": "e3749b14",
   "metadata": {},
   "outputs": [],
   "source": [
    "prediction_combined_feature['mol'] = prediction_combined_feature['smi'].apply(Chem.MolFromSmiles)\n",
    "prediction_combined_feature['mw'] = prediction_combined_feature['mol'].apply(cal_mw)"
   ]
  },
  {
   "cell_type": "code",
   "execution_count": null,
   "id": "2d3e14bc",
   "metadata": {},
   "outputs": [],
   "source": [
    "prediction_combined_feature['mol'] = prediction_combined_feature['smi'].apply(Chem.MolFromSmiles)\n",
    "prediction_combined_feature['logP'] = prediction_combined_feature['mol'].apply(get_logp)"
   ]
  },
  {
   "cell_type": "code",
   "execution_count": null,
   "id": "41e2c8cd",
   "metadata": {},
   "outputs": [],
   "source": [
    "predict_result_toxic = prediction_combined_feature[prediction_combined_feature['prediction'] == 'toxic']\n",
    "predict_result_benign = prediction_combined_feature[prediction_combined_feature['prediction'] == 'benign']"
   ]
  },
  {
   "cell_type": "code",
   "execution_count": null,
   "id": "0c93eb79",
   "metadata": {},
   "outputs": [],
   "source": [
    "plot_correlation(predict_result_toxic, predict_result_benign)"
   ]
  },
  {
   "cell_type": "markdown",
   "id": "cdfb8ba6",
   "metadata": {},
   "source": [
    "# Analyze the adverse events for ten predicted toxic and ten predicted benign drugs"
   ]
  },
  {
   "cell_type": "code",
   "execution_count": null,
   "id": "62757509",
   "metadata": {},
   "outputs": [],
   "source": [
    "true_adverse_drug_reactions = [\n",
    "    'Blood and lymphatic system disorders',\n",
    "    'Cardiac disorders',\n",
    "    'Ear and labyrinth disorders',\n",
    "    'Endocrine disorders',\n",
    "    'Eye disorders',\n",
    "    'Gastrointestinal disorders',\n",
    "    'General disorders and administration site conditions',\n",
    "    'Hepatobiliary disorders',\n",
    "    'Immune system disorders',\n",
    "    'Infections and infestations',\n",
    "    'Metabolism and nutrition disorders',\n",
    "    'Musculoskeletal and connective tissue disorders',\n",
    "    'Neoplasms benign, malignant and unspecified (incl cysts and polyps)',\n",
    "    'Nervous system disorders',\n",
    "    'Psychiatric disorders',\n",
    "    'Renal and urinary disorders',\n",
    "    'Reproductive system and breast disorders',\n",
    "    'Respiratory, thoracic and mediastinal disorders',\n",
    "    'Skin and subcutaneous tissue disorders',\n",
    "    'Vascular disorders'\n",
    "]"
   ]
  },
  {
   "cell_type": "markdown",
   "id": "018df8f8",
   "metadata": {},
   "source": [
    "Data source: EudraVigilance -- adverse reaction report analysis"
   ]
  },
  {
   "cell_type": "code",
   "execution_count": null,
   "id": "0994d0a1",
   "metadata": {},
   "outputs": [],
   "source": [
    "pre_benign = pd.read_csv('../Data/pre_benign.csv',sep='|')\n",
    "pre_toxic = pd.read_csv('../Data/pre_toxic.csv',sep='|')"
   ]
  },
  {
   "cell_type": "markdown",
   "id": "fe19319f",
   "metadata": {},
   "source": [
    "Total number of suspected adverse reactions reported for the selected drugs"
   ]
  },
  {
   "cell_type": "code",
   "execution_count": null,
   "id": "08d8eee2",
   "metadata": {},
   "outputs": [],
   "source": [
    "pre_benign_1 = pre_benign[pre_benign['Seriousness'] != 'Total'].drop(columns=['Total'])\n",
    "pre_toxic_1 = pre_toxic[pre_toxic['Seriousness'] != 'Total'].drop(columns=['Total'])"
   ]
  },
  {
   "cell_type": "code",
   "execution_count": null,
   "id": "30039502",
   "metadata": {},
   "outputs": [],
   "source": [
    "list_of_adverse_reaction = pre_benign_1.iloc[:,4:].columns.tolist()"
   ]
  },
  {
   "cell_type": "code",
   "execution_count": null,
   "id": "d1259f2a",
   "metadata": {},
   "outputs": [],
   "source": [
    "SuspectedAdverseDrugEvents_count(pre_benign_1, pre_toxic_1, true_adverse_drug_reactions)"
   ]
  },
  {
   "cell_type": "markdown",
   "id": "ad95fa86",
   "metadata": {},
   "source": [
    "Number of suspected adverse reactions reported for specific drugs"
   ]
  },
  {
   "cell_type": "code",
   "execution_count": null,
   "id": "5f1cd796",
   "metadata": {},
   "outputs": [],
   "source": [
    "pre_benign_2 = pre_benign[pre_benign['Seriousness'] == 'Total']\n",
    "pre_toxic_2 = pre_toxic[pre_toxic['Seriousness'] == 'Total']"
   ]
  },
  {
   "cell_type": "code",
   "execution_count": null,
   "id": "be0da023",
   "metadata": {},
   "outputs": [],
   "source": [
    "pre_combine = pd.concat([pre_benign_2, pre_toxic_2], ignore_index=True)"
   ]
  },
  {
   "cell_type": "code",
   "execution_count": null,
   "id": "d22f7de1",
   "metadata": {},
   "outputs": [],
   "source": [
    "pre_combine[true_adverse_drug_reactions] = pre_combine[true_adverse_drug_reactions].replace(',', '', regex=True).astype(float)"
   ]
  },
  {
   "cell_type": "code",
   "execution_count": null,
   "id": "8b89657f",
   "metadata": {},
   "outputs": [],
   "source": [
    "pre_benign_2['Total'] = pre_benign_2['Total'].replace(',', '', regex=True).astype(float)\n",
    "pre_toxic_2['Total'] = pre_toxic_2['Total'].replace(',', '', regex=True).astype(float)"
   ]
  },
  {
   "cell_type": "code",
   "execution_count": null,
   "id": "df855118",
   "metadata": {},
   "outputs": [],
   "source": [
    "print(np.mean(pre_benign_2[true_adverse_drug_reactions]))\n",
    "print(np.mean(pre_toxic_2[true_adverse_drug_reactions]))"
   ]
  },
  {
   "cell_type": "code",
   "execution_count": null,
   "id": "b156f05e",
   "metadata": {},
   "outputs": [],
   "source": [
    "pre_combine['Total'] = pre_combine[true_adverse_drug_reactions].sum(axis=1)"
   ]
  },
  {
   "cell_type": "code",
   "execution_count": null,
   "id": "d122057e",
   "metadata": {},
   "outputs": [],
   "source": [
    "SuspectedAdverseDrugEvents_Totalcount_for_eachdrug(pre_combine)"
   ]
  },
  {
   "cell_type": "code",
   "execution_count": null,
   "id": "f9bb823f",
   "metadata": {},
   "outputs": [],
   "source": [
    "SuspectedAdverseDrugEvents_count_for_eachdrug(pre_combine, true_adverse_drug_reactions)"
   ]
  }
 ],
 "metadata": {
  "kernelspec": {
   "display_name": "trialblazer",
   "language": "python",
   "name": "python3"
  },
  "language_info": {
   "codemirror_mode": {
    "name": "ipython",
    "version": 3
   },
   "file_extension": ".py",
   "mimetype": "text/x-python",
   "name": "python",
   "nbconvert_exporter": "python",
   "pygments_lexer": "ipython3",
   "version": "3.12.10"
  }
 },
 "nbformat": 4,
 "nbformat_minor": 5
}
