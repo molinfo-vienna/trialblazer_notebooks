{
 "cells": [
  {
   "cell_type": "code",
   "execution_count": 12,
   "id": "052a600b",
   "metadata": {},
   "outputs": [],
   "source": [
    "import numpy as np\n",
    "import pandas as pd\n",
    "from tqdm import tqdm\n",
    "import matplotlib.pyplot as plt\n",
    "from rdkit import Chem\n",
    "from rdkit.Chem import Descriptors\n",
    "from rdkit.ML.Descriptors import MoleculeDescriptors\n",
    "from sklearn import preprocessing\n",
    "from sklearn.ensemble import RandomForestClassifier\n",
    "from sklearn.feature_selection import SelectKBest, f_classif\n",
    "from sklearn.model_selection import GridSearchCV\n",
    "from sklearn.neural_network import MLPClassifier\n",
    "from trialblazer.models import (\n",
    "    get_morgan2,\n",
    "    compute_2Drdkit,\n",
    "    MLP_simulation_test,\n",
    "    MLP_cv,\n",
    "    MLP_decision_threshold_optimization,\n",
    "    RF_cv,\n",
    "    feature_selection\n",
    ")\n",
    "from rdkit import RDLogger\n",
    "RDLogger.DisableLog('rdApp.*')"
   ]
  },
  {
   "cell_type": "code",
   "execution_count": 13,
   "id": "58ccc13c",
   "metadata": {},
   "outputs": [],
   "source": [
    "import warnings\n",
    "warnings.filterwarnings('ignore')"
   ]
  },
  {
   "cell_type": "code",
   "execution_count": 14,
   "id": "45e49957",
   "metadata": {},
   "outputs": [],
   "source": [
    "Training_data = pd.read_csv(\"../Data/Training_data_withoutInfo.csv\", sep='|')\n",
    "Target_features = pd.read_csv('../Data/training_target_features.csv')"
   ]
  },
  {
   "cell_type": "markdown",
   "id": "0c499963",
   "metadata": {},
   "source": [
    "# Descriptors"
   ]
  },
  {
   "cell_type": "markdown",
   "id": "48acf43b",
   "metadata": {},
   "source": [
    "## Predicted bioactivity fingerprints (PBFPs)"
   ]
  },
  {
   "cell_type": "code",
   "execution_count": 15,
   "id": "0dbeea7f",
   "metadata": {},
   "outputs": [],
   "source": [
    "active_targets_merged_forlist = Target_features.drop(columns=['SmilesForDropDu'])\n",
    "targets_list = list(active_targets_merged_forlist.columns)\n",
    "print(len(targets_list))"
   ]
  },
  {
   "cell_type": "code",
   "execution_count": 16,
   "id": "39c1c00e",
   "metadata": {},
   "outputs": [],
   "source": [
    "Training_data = Training_data.merge(Target_features, how='left',on='SmilesForDropDu')\n",
    "Training_data[targets_list].isna().any().sum()"
   ]
  },
  {
   "cell_type": "markdown",
   "id": "451f6083",
   "metadata": {},
   "source": [
    "## Morgan2 fingerprints (M2FPs)"
   ]
  },
  {
   "cell_type": "code",
   "execution_count": 17,
   "id": "371e1753",
   "metadata": {},
   "outputs": [],
   "source": [
    "Training_data.Molecule = Training_data.SmilesForDropDu.apply(Chem.MolFromSmiles)\n",
    "Training_data['fp'] = Training_data.Molecule.apply(get_morgan2)\n",
    "morgan2_cols = ['morgan2_b'+ str(i) for i in list(range(2048))]\n",
    "Training_data[morgan2_cols] = Training_data['fp'].to_list()"
   ]
  },
  {
   "cell_type": "markdown",
   "id": "8ffca355",
   "metadata": {},
   "source": [
    "## Physicochemical descriptors (PCD)"
   ]
  },
  {
   "cell_type": "markdown",
   "id": "8a9728b4",
   "metadata": {},
   "source": [
    "If you are not using PCD, don't need to run this section, becuase it will remove one datapoint from Trianing_data"
   ]
  },
  {
   "cell_type": "code",
   "execution_count": 18,
   "id": "5976f8db",
   "metadata": {},
   "outputs": [],
   "source": [
    "descriptors_list = [x[0] for x in Descriptors._descList]\n",
    "print(len(descriptors_list))"
   ]
  },
  {
   "cell_type": "code",
   "execution_count": 19,
   "id": "e437ac43",
   "metadata": {},
   "outputs": [],
   "source": [
    "Training_data.Molecule = Training_data.SmilesForDropDu.apply(Chem.MolFromSmiles)\n",
    "Training_data['desc'] = Training_data.Molecule.apply(compute_2Drdkit)"
   ]
  },
  {
   "cell_type": "code",
   "execution_count": 20,
   "id": "f11ce403",
   "metadata": {},
   "outputs": [],
   "source": [
    "calc = MoleculeDescriptors.MolecularDescriptorCalculator([x[0] for x in Descriptors._descList])\n",
    "desc_cols = list(calc.GetDescriptorNames())\n",
    "Training_data[desc_cols] = Training_data.desc.to_list()\n",
    "Training_data.drop(\"desc\",axis=1,inplace=True)"
   ]
  },
  {
   "cell_type": "code",
   "execution_count": null,
   "id": "48d6ea2f",
   "metadata": {},
   "outputs": [],
   "source": [
    "Training_data[desc_cols].dropna(inplace=True)\n",
    "Training_data[desc_cols].isnull().values.any()"
   ]
  },
  {
   "cell_type": "code",
   "execution_count": null,
   "id": "d12235f1",
   "metadata": {},
   "outputs": [],
   "source": [
    "Training_data[desc_cols][Training_data[desc_cols].isna().any(axis=1)] # somehow dropna didn't remove this."
   ]
  },
  {
   "cell_type": "code",
   "execution_count": null,
   "id": "b4dcf36e",
   "metadata": {},
   "outputs": [],
   "source": [
    "Training_data.iloc[1272,:]"
   ]
  },
  {
   "cell_type": "code",
   "execution_count": null,
   "id": "57307648",
   "metadata": {},
   "outputs": [],
   "source": [
    "Training_data.drop(labels=1272, axis=0,inplace=True)\n",
    "Training_data.reset_index(inplace=True)"
   ]
  },
  {
   "cell_type": "markdown",
   "id": "fb18ecca",
   "metadata": {},
   "source": [
    "# 10-fold cross validation"
   ]
  },
  {
   "cell_type": "markdown",
   "id": "47464711",
   "metadata": {},
   "source": [
    "## model based on 208 physicochemical descriptors"
   ]
  },
  {
   "cell_type": "code",
   "execution_count": null,
   "id": "71c4c64b",
   "metadata": {},
   "outputs": [],
   "source": [
    "X = Training_data[desc_cols]\n",
    "y = Training_data.Mark"
   ]
  },
  {
   "cell_type": "code",
   "execution_count": null,
   "id": "e18ac81d",
   "metadata": {},
   "outputs": [],
   "source": [
    "scaler = preprocessing.StandardScaler().fit(X)\n",
    "X_scaled = scaler.transform(X)"
   ]
  },
  {
   "cell_type": "markdown",
   "id": "2d2e8bb2",
   "metadata": {},
   "source": [
    "MLP"
   ]
  },
  {
   "cell_type": "code",
   "execution_count": null,
   "id": "80b4eba7",
   "metadata": {},
   "outputs": [],
   "source": [
    "MLP_cv(X_scaled,y)"
   ]
  },
  {
   "cell_type": "markdown",
   "id": "da49a173",
   "metadata": {},
   "source": [
    "## model based on M2FPs"
   ]
  },
  {
   "cell_type": "code",
   "execution_count": 28,
   "id": "4b28de53",
   "metadata": {},
   "outputs": [],
   "source": [
    "X = Training_data[morgan2_cols]\n",
    "y = Training_data.Mark"
   ]
  },
  {
   "cell_type": "markdown",
   "id": "efa26eab",
   "metadata": {},
   "source": [
    "MLP"
   ]
  },
  {
   "cell_type": "code",
   "execution_count": null,
   "id": "e85a83b2",
   "metadata": {},
   "outputs": [],
   "source": [
    "opt_threshold_ap, opt_threshold_mean = MLP_decision_threshold_optimization(\n",
    "    X,\n",
    "    y,\n",
    "    opt_num_feature=750\n",
    "    ) "
   ]
  },
  {
   "cell_type": "code",
   "execution_count": 30,
   "id": "a8ff87c9",
   "metadata": {},
   "outputs": [],
   "source": [
    "import matplotlib.pyplot as plt\n",
    "import numpy as np\n",
    "import pandas as pd\n",
    "from rdkit.Chem import AllChem\n",
    "from rdkit.Chem import Descriptors\n",
    "from rdkit.ML.Descriptors import MoleculeDescriptors\n",
    "from scipy.stats import bernoulli\n",
    "from sklearn import metrics\n",
    "from sklearn.ensemble import RandomForestClassifier\n",
    "from sklearn.feature_selection import SelectKBest\n",
    "from sklearn.feature_selection import f_classif\n",
    "from sklearn.metrics import ConfusionMatrixDisplay\n",
    "from sklearn.metrics import RocCurveDisplay\n",
    "from sklearn.metrics import auc\n",
    "from sklearn.metrics import roc_curve\n",
    "from sklearn.metrics import balanced_accuracy_score\n",
    "from sklearn.metrics import confusion_matrix\n",
    "from sklearn.metrics import matthews_corrcoef\n",
    "from sklearn.metrics import precision_score\n",
    "from sklearn.metrics import recall_score\n",
    "from sklearn.metrics import roc_auc_score\n",
    "from sklearn.model_selection import StratifiedKFold\n",
    "from sklearn.neural_network import MLPClassifier\n",
    "from tqdm import tqdm\n",
    "def MLP_cv(X, y, opt_num_feature=\"all\", threshold=None) -> None:\n",
    "    selector = SelectKBest(f_classif, k=opt_num_feature)\n",
    "    X_new = selector.fit_transform(X, y)\n",
    "    cv = StratifiedKFold(n_splits=10)\n",
    "    if opt_num_feature == \"all\" and threshold is None:\n",
    "        classifier = MLPClassifier(random_state=42)\n",
    "    else:\n",
    "        classifier = MLPClassifier(\n",
    "            hidden_layer_sizes=(70,),\n",
    "            random_state=42,\n",
    "            learning_rate_init=0.0001,\n",
    "            max_iter=200,\n",
    "        )\n",
    "    tprs, aucs, MCCs, cms, baccs, recalls, precisions = (\n",
    "        [],\n",
    "        [],\n",
    "        [],\n",
    "        [],\n",
    "        [],\n",
    "        [],\n",
    "        [],\n",
    "    )\n",
    "    mean_fpr = np.linspace(0, 1, 100)\n",
    "    fig, ax = plt.subplots()\n",
    "\n",
    "    for i, (train, test) in enumerate(cv.split(X_new, y)):\n",
    "        classifier.fit(X_new[train], y[train])\n",
    "\n",
    "        y_prob = classifier.predict_proba(X_new[test])[:, 1]\n",
    "\n",
    "        if threshold is None:  \n",
    "            y_pred_opt = classifier.predict(X_new[test])\n",
    "        else:  \n",
    "            y_pred_opt = (y_prob >= threshold).astype(int)\n",
    "\n",
    "        mcc = matthews_corrcoef(y[test], y_pred_opt)\n",
    "        bacc = balanced_accuracy_score(y[test], y_pred_opt)\n",
    "        cm = confusion_matrix(y[test], y_pred_opt, labels=classifier.classes_)\n",
    "        rec = recall_score(y[test], y_pred_opt)\n",
    "        prec = precision_score(y[test], y_pred_opt)\n",
    "\n",
    "        MCCs.append(mcc)\n",
    "        baccs.append(bacc)\n",
    "        cms.append(cm)\n",
    "        recalls.append(rec)\n",
    "        precisions.append(prec)\n",
    "        \n",
    "        fpr, tpr, _ = roc_curve(y[test], y_prob)\n",
    "        roc_auc = auc(fpr, tpr)\n",
    "        \n",
    "        interp_tpr = np.interp(mean_fpr, fpr, tpr)\n",
    "        interp_tpr[0] = 0.0\n",
    "        tprs.append(interp_tpr)\n",
    "        aucs.append(roc_auc)\n",
    "\n",
    "    mean_tpr = np.mean(tprs, axis=0)\n",
    "    mean_tpr[-1] = 1.0\n",
    "    mean_auc = auc(mean_fpr, mean_tpr)\n",
    "    std_auc = np.std(aucs)\n",
    "    np.mean(MCCs)\n",
    "    np.std(MCCs)\n",
    "    stacked_matrices = np.stack(cms, axis=0)\n",
    "    mean_cms = np.mean(stacked_matrices, axis=0)\n",
    "    mean_cms = np.round(mean_cms).astype(\n",
    "        int,\n",
    "    )  \n",
    "    print(f\"Mean MCC: {np.mean(MCCs):.3f} ± {np.std(MCCs):.3f}\")\n",
    "    print(f\"Mean balanced accuracy: {np.mean(baccs):.3f} ± {np.std(baccs):.3f}\")\n",
    "    print(f\"Mean recall: {np.mean(recalls):.3f} ± {np.std(recalls):.3f}\")\n",
    "    print(f\"Mean precision: {np.mean(precisions):.3f} ± {np.std(precisions):.3f}\")\n",
    "    print(f\"Mean AUC: {mean_auc:.3f} ± {std_auc:.3f}\")\n",
    "    \n",
    "    ax.plot(\n",
    "        [0, 1],\n",
    "        [0, 1],\n",
    "        linestyle=\"--\",\n",
    "        lw=2,\n",
    "        color=\"r\",\n",
    "        label=\"Chance\",\n",
    "        alpha=0.5,\n",
    "    )\n",
    "    ax.plot(\n",
    "        mean_fpr,\n",
    "        mean_tpr,\n",
    "        color=\"navy\",\n",
    "        label=rf\"Mean ROC (AUC = {mean_auc:0.2f} $\\pm$ {std_auc:0.2f})\",\n",
    "        lw=2,\n",
    "        alpha=1,\n",
    "    )\n",
    "    std_tpr = np.std(tprs, axis=0)\n",
    "    tprs_upper = np.minimum(mean_tpr + std_tpr, 1)\n",
    "    tprs_lower = np.maximum(mean_tpr - std_tpr, 0)\n",
    "\n",
    "    ax.fill_between(\n",
    "        mean_fpr,\n",
    "        tprs_lower,\n",
    "        tprs_upper,\n",
    "        color=\"grey\",\n",
    "        alpha=0.2,\n",
    "    )\n",
    "    ax.set(\n",
    "        xlim=[-0.05, 1.05],\n",
    "        ylim=[-0.05, 1.05],\n",
    "        title=\"ROC Curve\",\n",
    "    )\n",
    "    ax.legend(loc=\"lower right\")\n",
    "    plt.savefig('/home/hzhang/HuanniZ/Data/Submissiion_supplement_figuersAndfiles/Figure4A.roc_curve_M2FPs.pdf', format='pdf', bbox_inches='tight')\n",
    "    disp = ConfusionMatrixDisplay(\n",
    "        confusion_matrix=mean_cms,\n",
    "        display_labels=['benign', 'toxic']\n",
    "    )\n",
    "    disp.plot(\n",
    "        cmap=plt.cm.Blues,\n",
    "        # xticks_rotation=\"vertical\"\n",
    "    )\n",
    "    plt.savefig('/home/hzhang/HuanniZ/Data/Submissiion_supplement_figuersAndfiles/Figure4A.confusion_matrix_M2FPs.pdf', format='pdf', bbox_inches='tight')"
   ]
  },
  {
   "cell_type": "code",
   "execution_count": 31,
   "id": "23630cdc",
   "metadata": {},
   "outputs": [],
   "source": [
    "MLP_cv(np.array(X),y,opt_num_feature=750,threshold=0.12)"
   ]
  },
  {
   "cell_type": "markdown",
   "id": "10cbcff8",
   "metadata": {},
   "source": [
    "## model based on M2FPs+PBFPs"
   ]
  },
  {
   "cell_type": "code",
   "execution_count": 32,
   "id": "fa782a51",
   "metadata": {},
   "outputs": [],
   "source": [
    "M2FPs_PBFPs =  morgan2_cols + targets_list\n",
    "len(M2FPs_PBFPs)"
   ]
  },
  {
   "cell_type": "code",
   "execution_count": 33,
   "id": "9920cf0e",
   "metadata": {},
   "outputs": [],
   "source": [
    "X = Training_data[M2FPs_PBFPs]\n",
    "y = Training_data.Mark"
   ]
  },
  {
   "cell_type": "code",
   "execution_count": null,
   "id": "7e8ea12f",
   "metadata": {},
   "outputs": [],
   "source": [
    "opt_threshold_ap, opt_threshold_mean = MLP_decision_threshold_optimization(\n",
    "    X,\n",
    "    y,\n",
    "    opt_num_feature=850)"
   ]
  },
  {
   "cell_type": "code",
   "execution_count": 34,
   "id": "8829d387",
   "metadata": {},
   "outputs": [],
   "source": [
    "MLP_cv(np.array(X),y, opt_num_feature=850, threshold=0.15)"
   ]
  },
  {
   "cell_type": "markdown",
   "id": "80dd20ff",
   "metadata": {},
   "source": [
    "# Simulation tests"
   ]
  },
  {
   "cell_type": "code",
   "execution_count": null,
   "id": "41e4465f",
   "metadata": {},
   "outputs": [],
   "source": [
    "X = Training_data[M2FPs_PBFPs]\n",
    "selector = SelectKBest(f_classif, k=850)\n",
    "X_new = selector.fit_transform(X, y)"
   ]
  },
  {
   "cell_type": "code",
   "execution_count": null,
   "id": "8baa720f",
   "metadata": {},
   "outputs": [],
   "source": [
    "k_fold_mccs = []\n",
    "for iter in tqdm(range(1, 10001)): \n",
    "    k_fold_mccs.append(MLP_simulation_test(X_new,y))"
   ]
  },
  {
   "cell_type": "code",
   "execution_count": null,
   "id": "d69bdd3e",
   "metadata": {},
   "outputs": [],
   "source": [
    "plt.hist(k_fold_mccs, bins=100);\n",
    "plt.xlabel('MCC', fontsize = 10) \n",
    "plt.ylabel('Count',fontsize = 10) \n",
    "plt.title('Simulation test')\n",
    "plt.axvline(x = 0.46, color = 'b',lw=2,label = 'MCC of MLP based on\\nM2FPs+PBFPs = 0.46')\n",
    "plt.axvline(x = 0.44, color = 'r',lw=2,label = 'MCC of MLP based on\\nM2FP = 0.44')\n",
    "plt.axvline(x = 0.09, color = 'g',lw=2,label = 'MCC of MLP based on\\nGIN = 0.09')\n",
    "plt.axvline(x = 0.17, color = 'm',lw=2,label = 'MCC of MLP based on\\nChemBERTa = 0.17')\n",
    "plt.legend(loc='upper right')"
   ]
  },
  {
   "cell_type": "markdown",
   "id": "e3c79c56",
   "metadata": {},
   "source": [
    "# Hyperparameter optimization"
   ]
  },
  {
   "cell_type": "markdown",
   "id": "308913c5",
   "metadata": {},
   "source": [
    "MLP"
   ]
  },
  {
   "cell_type": "code",
   "execution_count": null,
   "id": "08a367e7",
   "metadata": {},
   "outputs": [],
   "source": [
    "X = Training_data[M2FPs_PBFPs]\n",
    "y = Training_data.Mark\n",
    "selector = SelectKBest(f_classif, k=850)\n",
    "X_new = selector.fit_transform(X, y)\n",
    "\n",
    "param_grid = {\n",
    "    'hidden_layer_sizes':[(10,),(20,),(30,),(40,),(50,),(60,),(70,),(80,),(90,),(100,)],\n",
    "    'learning_rate_init':[0.0001,0.001,0.01,0.1],\n",
    "    'random_state':[42],\n",
    "    'max_iter':[200, 400, 600, 800]\n",
    "    }\n",
    "MLP = MLPClassifier()\n",
    "grid_search = GridSearchCV(\n",
    "    estimator = MLP, \n",
    "    param_grid = param_grid, \n",
    "    scoring='roc_auc',\n",
    "    cv = 10)\n",
    "grid_search.fit(X_new, y)\n",
    "grid_search.best_params_"
   ]
  },
  {
   "cell_type": "markdown",
   "id": "e9109912",
   "metadata": {},
   "source": [
    "# Feature selecttion (K value optimization)"
   ]
  },
  {
   "cell_type": "markdown",
   "id": "c454457a",
   "metadata": {},
   "source": [
    "Example of model based on M2FPs+PBFPs features"
   ]
  },
  {
   "cell_type": "markdown",
   "id": "b61810ba",
   "metadata": {},
   "source": [
    "initial"
   ]
  },
  {
   "cell_type": "code",
   "execution_count": null,
   "id": "c6181c90",
   "metadata": {},
   "outputs": [],
   "source": [
    "X = Training_data[M2FPs_PBFPs]\n",
    "y = Training_data.Mark\n",
    "ANOVA_K_list = ['100','500','1000','1500','2000']\n",
    "feature_selection(X, y, M2FPs_PBFPs,'M2FPs + PBFPs', ANOVA_K_list) "
   ]
  },
  {
   "cell_type": "markdown",
   "id": "68656eb6",
   "metadata": {},
   "source": [
    "extended"
   ]
  },
  {
   "cell_type": "code",
   "execution_count": null,
   "id": "c8670f0c",
   "metadata": {},
   "outputs": [],
   "source": [
    "\n",
    "ANOVA_K_list = ['500','550','600','650','700','750','800','850','900','950','1000']\n",
    "feature_selection(X, y, M2FPs_PBFPs,'M2FPs + PBFPs', ANOVA_K_list) "
   ]
  }
 ],
 "metadata": {
  "kernelspec": {
   "display_name": "trialblazer",
   "language": "python",
   "name": "python3"
  },
  "language_info": {
   "codemirror_mode": {
    "name": "ipython",
    "version": 3
   },
   "file_extension": ".py",
   "mimetype": "text/x-python",
   "name": "python",
   "nbconvert_exporter": "python",
   "pygments_lexer": "ipython3",
   "version": "3.12.10"
  }
 },
 "nbformat": 4,
 "nbformat_minor": 5
}
